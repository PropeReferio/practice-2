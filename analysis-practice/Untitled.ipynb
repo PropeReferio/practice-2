{
 "cells": [
  {
   "cell_type": "code",
   "execution_count": 19,
   "metadata": {},
   "outputs": [
    {
     "data": {
      "text/plain": [
       "962.7932432432432"
      ]
     },
     "execution_count": 19,
     "metadata": {},
     "output_type": "execute_result"
    }
   ],
   "source": [
    "import pandas as pd\n",
    "import numpy as np\n",
    "\n",
    "insu_data = pd.read_csv('FL_insurance_sample.csv')\n",
    "pd.set_option('display.max_rows', 200)\n",
    "\n",
    "insu_data.groupby('county').count()\n",
    "insu_data.head(200)#['hu_site_deductible'].mean()\n",
    "insu_data[(insu_data['construction'] == 'Masonry') & (insu_data['county'] == 'CLAY COUNTY')]['hu_site_deductible'].mean()"
   ]
  }
 ],
 "metadata": {
  "kernelspec": {
   "display_name": "Python 3",
   "language": "python",
   "name": "python3"
  },
  "language_info": {
   "codemirror_mode": {
    "name": "ipython",
    "version": 3
   },
   "file_extension": ".py",
   "mimetype": "text/x-python",
   "name": "python",
   "nbconvert_exporter": "python",
   "pygments_lexer": "ipython3",
   "version": "3.8.3"
  }
 },
 "nbformat": 4,
 "nbformat_minor": 4
}
